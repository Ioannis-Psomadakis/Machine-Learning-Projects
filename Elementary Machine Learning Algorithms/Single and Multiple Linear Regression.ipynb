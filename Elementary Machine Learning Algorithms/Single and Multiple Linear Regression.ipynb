{
 "cells": [
  {
   "cell_type": "markdown",
   "id": "713a0087",
   "metadata": {},
   "source": [
    "# Single and Multiple Linear Regression"
   ]
  },
  {
   "cell_type": "markdown",
   "id": "04ab98b9",
   "metadata": {},
   "source": [
    "For this project, a dataset in Microsoft Excel file format will be used. The dataset 'cars.xls' includes 9 variables and 392 data entries."
   ]
  },
  {
   "cell_type": "code",
   "execution_count": 2,
   "id": "580aa413",
   "metadata": {},
   "outputs": [],
   "source": [
    "# Importing of the necessary libraries\n",
    "import pandas as pd\n",
    "import numpy as np\n",
    "from sklearn.model_selection import train_test_split\n",
    "from sklearn.linear_model import LinearRegression\n",
    "from math import sqrt\n",
    "from sklearn.metrics import mean_squared_error\n",
    "import statsmodels.api as sm\n",
    "from sklearn.preprocessing import MinMaxScaler"
   ]
  },
  {
   "cell_type": "code",
   "execution_count": 3,
   "id": "5c110fae",
   "metadata": {},
   "outputs": [
    {
     "data": {
      "text/html": [
       "<div>\n",
       "<style scoped>\n",
       "    .dataframe tbody tr th:only-of-type {\n",
       "        vertical-align: middle;\n",
       "    }\n",
       "\n",
       "    .dataframe tbody tr th {\n",
       "        vertical-align: top;\n",
       "    }\n",
       "\n",
       "    .dataframe thead th {\n",
       "        text-align: right;\n",
       "    }\n",
       "</style>\n",
       "<table border=\"1\" class=\"dataframe\">\n",
       "  <thead>\n",
       "    <tr style=\"text-align: right;\">\n",
       "      <th></th>\n",
       "      <th>Model</th>\n",
       "      <th>MPG</th>\n",
       "      <th>Cylinders</th>\n",
       "      <th>Displacement</th>\n",
       "      <th>Horsepower</th>\n",
       "      <th>Weight</th>\n",
       "      <th>Acceleration</th>\n",
       "      <th>Year</th>\n",
       "      <th>Origin</th>\n",
       "    </tr>\n",
       "  </thead>\n",
       "  <tbody>\n",
       "    <tr>\n",
       "      <th>0</th>\n",
       "      <td>chevrolet chevelle malibu</td>\n",
       "      <td>18.0</td>\n",
       "      <td>8</td>\n",
       "      <td>307.0</td>\n",
       "      <td>130</td>\n",
       "      <td>3504</td>\n",
       "      <td>12.0</td>\n",
       "      <td>70</td>\n",
       "      <td>US</td>\n",
       "    </tr>\n",
       "    <tr>\n",
       "      <th>1</th>\n",
       "      <td>buick skylark 320</td>\n",
       "      <td>15.0</td>\n",
       "      <td>8</td>\n",
       "      <td>350.0</td>\n",
       "      <td>165</td>\n",
       "      <td>3693</td>\n",
       "      <td>11.5</td>\n",
       "      <td>70</td>\n",
       "      <td>US</td>\n",
       "    </tr>\n",
       "    <tr>\n",
       "      <th>2</th>\n",
       "      <td>plymouth satellite</td>\n",
       "      <td>18.0</td>\n",
       "      <td>8</td>\n",
       "      <td>318.0</td>\n",
       "      <td>150</td>\n",
       "      <td>3436</td>\n",
       "      <td>11.0</td>\n",
       "      <td>70</td>\n",
       "      <td>US</td>\n",
       "    </tr>\n",
       "    <tr>\n",
       "      <th>3</th>\n",
       "      <td>amc rebel sst</td>\n",
       "      <td>16.0</td>\n",
       "      <td>8</td>\n",
       "      <td>304.0</td>\n",
       "      <td>150</td>\n",
       "      <td>3433</td>\n",
       "      <td>12.0</td>\n",
       "      <td>70</td>\n",
       "      <td>US</td>\n",
       "    </tr>\n",
       "    <tr>\n",
       "      <th>4</th>\n",
       "      <td>ford torino</td>\n",
       "      <td>17.0</td>\n",
       "      <td>8</td>\n",
       "      <td>302.0</td>\n",
       "      <td>140</td>\n",
       "      <td>3449</td>\n",
       "      <td>10.5</td>\n",
       "      <td>70</td>\n",
       "      <td>US</td>\n",
       "    </tr>\n",
       "  </tbody>\n",
       "</table>\n",
       "</div>"
      ],
      "text/plain": [
       "                       Model   MPG  Cylinders  Displacement  Horsepower  \\\n",
       "0  chevrolet chevelle malibu  18.0          8         307.0         130   \n",
       "1          buick skylark 320  15.0          8         350.0         165   \n",
       "2         plymouth satellite  18.0          8         318.0         150   \n",
       "3              amc rebel sst  16.0          8         304.0         150   \n",
       "4                ford torino  17.0          8         302.0         140   \n",
       "\n",
       "   Weight  Acceleration  Year Origin  \n",
       "0    3504          12.0    70     US  \n",
       "1    3693          11.5    70     US  \n",
       "2    3436          11.0    70     US  \n",
       "3    3433          12.0    70     US  \n",
       "4    3449          10.5    70     US  "
      ]
     },
     "execution_count": 3,
     "metadata": {},
     "output_type": "execute_result"
    }
   ],
   "source": [
    "# Uploading of the 'cars' dataset and displaying of the 5 first rows\n",
    "cars_df = pd.read_excel('cars.xls')\n",
    "cars_df.head()"
   ]
  },
  {
   "cell_type": "code",
   "execution_count": 4,
   "id": "872e7069",
   "metadata": {},
   "outputs": [
    {
     "name": "stdout",
     "output_type": "stream",
     "text": [
      "<class 'pandas.core.frame.DataFrame'>\n",
      "RangeIndex: 392 entries, 0 to 391\n",
      "Data columns (total 9 columns):\n",
      " #   Column        Non-Null Count  Dtype  \n",
      "---  ------        --------------  -----  \n",
      " 0   Model         392 non-null    object \n",
      " 1   MPG           392 non-null    float64\n",
      " 2   Cylinders     392 non-null    int64  \n",
      " 3   Displacement  392 non-null    float64\n",
      " 4   Horsepower    392 non-null    int64  \n",
      " 5   Weight        392 non-null    int64  \n",
      " 6   Acceleration  392 non-null    float64\n",
      " 7   Year          392 non-null    int64  \n",
      " 8   Origin        392 non-null    object \n",
      "dtypes: float64(3), int64(4), object(2)\n",
      "memory usage: 27.7+ KB\n"
     ]
    }
   ],
   "source": [
    "# Display of some information about the dataset, the variables it contains and their type\n",
    "cars_df.info()"
   ]
  },
  {
   "cell_type": "markdown",
   "id": "438eadaa",
   "metadata": {},
   "source": [
    "### Single Linear Regression"
   ]
  },
  {
   "cell_type": "markdown",
   "id": "6efae1a7",
   "metadata": {},
   "source": [
    "At this point, the choice of one variable as input and one as output is being made. The choice is of the variable MPG (miles per gallon) as the output and the variable Horsepower as the input. That is, when the model is given the horsepower to be able to predict the consumption (MPG)."
   ]
  },
  {
   "cell_type": "code",
   "execution_count": 5,
   "id": "ce2b4057",
   "metadata": {},
   "outputs": [],
   "source": [
    "y = cars_df.MPG\n",
    "X = cars_df.Horsepower"
   ]
  },
  {
   "cell_type": "markdown",
   "id": "d37ba895",
   "metadata": {},
   "source": [
    "Then the splitting the dataset into two parts, train and test, for each variable takes place (X_train, X_test and Y_train, Y_test). This is done with the help of the train_test_split module."
   ]
  },
  {
   "cell_type": "raw",
   "id": "eb99acc2",
   "metadata": {},
   "source": [
    "In the train_test_split module the parameters are included:\n",
    "• Arrayssequence: The allowed inputs are lists, numpy arrays, scipy-sparse matrices or pandas dataframes.\n",
    "• Test_size (optional): must be between 0.0 and 1.0 and represent the proportion of the data set included in the test split.\n",
    "• Train_size (optional): must be between 0.0 and 1.0 and represent the percentage of the data set included in the test split.\n",
    "• Random_state (optional): random_state is used as a random number generator."
   ]
  },
  {
   "cell_type": "code",
   "execution_count": 6,
   "id": "53a3c3b7",
   "metadata": {},
   "outputs": [],
   "source": [
    "# Splitting of the dataset in training and testing sets\n",
    "X_train, X_test, y_train, y_test = train_test_split(pd.DataFrame(X), y, test_size = 0.3, random_state = 42)"
   ]
  },
  {
   "cell_type": "markdown",
   "id": "3f31fc74",
   "metadata": {},
   "source": [
    "Here, some random values for the testset were generated, so that it can contain horsepower values that the model may not have been trained on, and then give us predictions about the consumption."
   ]
  },
  {
   "cell_type": "markdown",
   "id": "27779844",
   "metadata": {},
   "source": [
    "The feeding of the model (i.e. its training) then takes place using sklearn's linear regression function."
   ]
  },
  {
   "cell_type": "code",
   "execution_count": 8,
   "id": "1285874b",
   "metadata": {},
   "outputs": [
    {
     "data": {
      "text/html": [
       "<style>#sk-container-id-2 {color: black;background-color: white;}#sk-container-id-2 pre{padding: 0;}#sk-container-id-2 div.sk-toggleable {background-color: white;}#sk-container-id-2 label.sk-toggleable__label {cursor: pointer;display: block;width: 100%;margin-bottom: 0;padding: 0.3em;box-sizing: border-box;text-align: center;}#sk-container-id-2 label.sk-toggleable__label-arrow:before {content: \"▸\";float: left;margin-right: 0.25em;color: #696969;}#sk-container-id-2 label.sk-toggleable__label-arrow:hover:before {color: black;}#sk-container-id-2 div.sk-estimator:hover label.sk-toggleable__label-arrow:before {color: black;}#sk-container-id-2 div.sk-toggleable__content {max-height: 0;max-width: 0;overflow: hidden;text-align: left;background-color: #f0f8ff;}#sk-container-id-2 div.sk-toggleable__content pre {margin: 0.2em;color: black;border-radius: 0.25em;background-color: #f0f8ff;}#sk-container-id-2 input.sk-toggleable__control:checked~div.sk-toggleable__content {max-height: 200px;max-width: 100%;overflow: auto;}#sk-container-id-2 input.sk-toggleable__control:checked~label.sk-toggleable__label-arrow:before {content: \"▾\";}#sk-container-id-2 div.sk-estimator input.sk-toggleable__control:checked~label.sk-toggleable__label {background-color: #d4ebff;}#sk-container-id-2 div.sk-label input.sk-toggleable__control:checked~label.sk-toggleable__label {background-color: #d4ebff;}#sk-container-id-2 input.sk-hidden--visually {border: 0;clip: rect(1px 1px 1px 1px);clip: rect(1px, 1px, 1px, 1px);height: 1px;margin: -1px;overflow: hidden;padding: 0;position: absolute;width: 1px;}#sk-container-id-2 div.sk-estimator {font-family: monospace;background-color: #f0f8ff;border: 1px dotted black;border-radius: 0.25em;box-sizing: border-box;margin-bottom: 0.5em;}#sk-container-id-2 div.sk-estimator:hover {background-color: #d4ebff;}#sk-container-id-2 div.sk-parallel-item::after {content: \"\";width: 100%;border-bottom: 1px solid gray;flex-grow: 1;}#sk-container-id-2 div.sk-label:hover label.sk-toggleable__label {background-color: #d4ebff;}#sk-container-id-2 div.sk-serial::before {content: \"\";position: absolute;border-left: 1px solid gray;box-sizing: border-box;top: 0;bottom: 0;left: 50%;z-index: 0;}#sk-container-id-2 div.sk-serial {display: flex;flex-direction: column;align-items: center;background-color: white;padding-right: 0.2em;padding-left: 0.2em;position: relative;}#sk-container-id-2 div.sk-item {position: relative;z-index: 1;}#sk-container-id-2 div.sk-parallel {display: flex;align-items: stretch;justify-content: center;background-color: white;position: relative;}#sk-container-id-2 div.sk-item::before, #sk-container-id-2 div.sk-parallel-item::before {content: \"\";position: absolute;border-left: 1px solid gray;box-sizing: border-box;top: 0;bottom: 0;left: 50%;z-index: -1;}#sk-container-id-2 div.sk-parallel-item {display: flex;flex-direction: column;z-index: 1;position: relative;background-color: white;}#sk-container-id-2 div.sk-parallel-item:first-child::after {align-self: flex-end;width: 50%;}#sk-container-id-2 div.sk-parallel-item:last-child::after {align-self: flex-start;width: 50%;}#sk-container-id-2 div.sk-parallel-item:only-child::after {width: 0;}#sk-container-id-2 div.sk-dashed-wrapped {border: 1px dashed gray;margin: 0 0.4em 0.5em 0.4em;box-sizing: border-box;padding-bottom: 0.4em;background-color: white;}#sk-container-id-2 div.sk-label label {font-family: monospace;font-weight: bold;display: inline-block;line-height: 1.2em;}#sk-container-id-2 div.sk-label-container {text-align: center;}#sk-container-id-2 div.sk-container {/* jupyter's `normalize.less` sets `[hidden] { display: none; }` but bootstrap.min.css set `[hidden] { display: none !important; }` so we also need the `!important` here to be able to override the default hidden behavior on the sphinx rendered scikit-learn.org. See: https://github.com/scikit-learn/scikit-learn/issues/21755 */display: inline-block !important;position: relative;}#sk-container-id-2 div.sk-text-repr-fallback {display: none;}</style><div id=\"sk-container-id-2\" class=\"sk-top-container\"><div class=\"sk-text-repr-fallback\"><pre>LinearRegression()</pre><b>In a Jupyter environment, please rerun this cell to show the HTML representation or trust the notebook. <br />On GitHub, the HTML representation is unable to render, please try loading this page with nbviewer.org.</b></div><div class=\"sk-container\" hidden><div class=\"sk-item\"><div class=\"sk-estimator sk-toggleable\"><input class=\"sk-toggleable__control sk-hidden--visually\" id=\"sk-estimator-id-2\" type=\"checkbox\" checked><label for=\"sk-estimator-id-2\" class=\"sk-toggleable__label sk-toggleable__label-arrow\">LinearRegression</label><div class=\"sk-toggleable__content\"><pre>LinearRegression()</pre></div></div></div></div></div>"
      ],
      "text/plain": [
       "LinearRegression()"
      ]
     },
     "execution_count": 8,
     "metadata": {},
     "output_type": "execute_result"
    }
   ],
   "source": [
    "# Calling of the linear regression function and fitting of the model\n",
    "regressor = LinearRegression()\n",
    "regressor.fit(X_train, y_train)"
   ]
  },
  {
   "cell_type": "markdown",
   "id": "7867cf06",
   "metadata": {},
   "source": [
    "After that, the prediction of the output follows. y_prediction is the MPG consumption for each Horsepower value contained in X_test."
   ]
  },
  {
   "cell_type": "code",
   "execution_count": 9,
   "id": "8af8d16b",
   "metadata": {},
   "outputs": [
    {
     "name": "stdout",
     "output_type": "stream",
     "text": [
      "[29.60673686 21.95467101 31.10388018 29.44038761 26.77879949 28.60864132\n",
      " 12.80546185 28.60864132 25.28165617 32.93372202  9.47847669 23.11911582\n",
      " 15.30070071 28.60864132 18.96038438 26.44610097 25.28165617 28.60864132\n",
      " 27.77689503 26.44610097 25.28165617 32.43467424 29.77308612 19.45943215\n",
      " 29.93943538 26.11340245 26.61245023 23.61816359 33.43276979 28.44229206\n",
      " 16.96419329 26.11340245 20.29117844 28.77499058 16.132447   29.93943538\n",
      " 17.79593957 27.77689503 17.79593957  5.31974525 19.45943215 28.60864132\n",
      " 28.77499058 28.10959355 16.46514551  5.31974525 24.44990988 29.60673686\n",
      " 29.10768909 29.44038761 15.63339922 25.28165617 26.11340245 26.44610097\n",
      " 22.45371879 22.7864173  22.7864173  24.44990988 25.28165617 25.28165617\n",
      "  3.65625268 26.11340245 21.95467101 26.44610097 25.28165617 27.61054577\n",
      " 26.44610097 29.44038761 22.7864173   8.14768263 29.10768909 11.97371556\n",
      " 24.94895765 26.11340245 26.94514874 27.77689503 16.96419329 16.132447\n",
      " 26.44610097 22.7864173  25.78070394 24.94895765 16.132447   30.43848315\n",
      "  9.47847669 30.77118167 22.7864173  21.95467101 22.7864173  24.44990988\n",
      " 26.44610097 28.44229206 29.93943538 26.94514874 23.61816359 21.12292473\n",
      " 22.45371879 12.80546185 25.28165617 24.94895765  6.48419006 22.7864173\n",
      "  5.31974525 33.43276979 29.44038761 30.27213389 31.10388018 25.9470532\n",
      " 24.78260839 18.62768586 29.93943538 29.27403835 26.77879949 26.77879949\n",
      " 30.27213389 24.44990988 17.79593957 29.10768909]\n"
     ]
    }
   ],
   "source": [
    "y_prediction = regressor.predict(X_test)\n",
    "\n",
    "# Display of the prediction values\n",
    "print(y_prediction)"
   ]
  },
  {
   "cell_type": "markdown",
   "id": "66562ab4",
   "metadata": {},
   "source": [
    "The model's performance can also be measured using the root mean square error (RMSE)."
   ]
  },
  {
   "cell_type": "code",
   "execution_count": 10,
   "id": "0b3f3d8f",
   "metadata": {},
   "outputs": [
    {
     "name": "stdout",
     "output_type": "stream",
     "text": [
      "4.955413560049773\n"
     ]
    }
   ],
   "source": [
    "RMSE = sqrt(mean_squared_error(y_true = y_test, y_pred = y_prediction))\n",
    "\n",
    "# Display of the root mean square error(RMSE)\n",
    "print(RMSE)"
   ]
  },
  {
   "cell_type": "markdown",
   "id": "4eda2c7c",
   "metadata": {},
   "source": [
    "The RMSE is the square root of the mean squared differences between prediction and observation. In the example of the Single Linear Regression provided, a relatively small error is observed. This leads to the safe assumption that the model used performs well."
   ]
  },
  {
   "cell_type": "markdown",
   "id": "d88f4c64",
   "metadata": {},
   "source": [
    "### Multiple Linear Regression"
   ]
  },
  {
   "cell_type": "markdown",
   "id": "e16bbdb9",
   "metadata": {},
   "source": [
    "At this point, the aim is to give the model a set of characteristics and predict the consumption (MPG). The variable MPG (miles per gallon) is chosen as output but now the input is not a single variable, rather a set of variable and as so, it is called Multiple Linear Regression."
   ]
  },
  {
   "cell_type": "markdown",
   "id": "819d4d6f",
   "metadata": {},
   "source": [
    "The code will be the same until the point where the selection of the variables takes place."
   ]
  },
  {
   "cell_type": "code",
   "execution_count": 11,
   "id": "2f261410",
   "metadata": {},
   "outputs": [],
   "source": [
    "y = cars_df.MPG\n",
    "X = cars_df[['Cylinders', 'Displacement', 'Horsepower', 'Weight', 'Acceleration', 'Year']]"
   ]
  },
  {
   "cell_type": "markdown",
   "id": "3f10e69b",
   "metadata": {},
   "source": [
    "Then, the splitting of the dataset, as usual, follows."
   ]
  },
  {
   "cell_type": "code",
   "execution_count": 12,
   "id": "ec5e64e9",
   "metadata": {},
   "outputs": [],
   "source": [
    "X_train, X_test, y_train, y_test = train_test_split(X,y)"
   ]
  },
  {
   "cell_type": "markdown",
   "id": "b63bc6a7",
   "metadata": {},
   "source": [
    "Since in this instance the input variables are more than one, a scaling of the input must takeplace. This is achieved with the MinMaxScaler() module and the scaler object."
   ]
  },
  {
   "cell_type": "code",
   "execution_count": 13,
   "id": "86d5e21e",
   "metadata": {},
   "outputs": [],
   "source": [
    "scaler = MinMaxScaler()\n",
    "X_train_sc = pd.DataFrame(scaler.fit_transform(X_train), columns = X_train.columns)\n",
    "X_test_sc = pd.DataFrame(scaler.transform(X_test), columns = X_test.columns)"
   ]
  },
  {
   "cell_type": "markdown",
   "id": "bf59f45a",
   "metadata": {},
   "source": [
    "The training of the model now takes place."
   ]
  },
  {
   "cell_type": "code",
   "execution_count": 15,
   "id": "040db473",
   "metadata": {},
   "outputs": [
    {
     "data": {
      "text/html": [
       "<style>#sk-container-id-4 {color: black;background-color: white;}#sk-container-id-4 pre{padding: 0;}#sk-container-id-4 div.sk-toggleable {background-color: white;}#sk-container-id-4 label.sk-toggleable__label {cursor: pointer;display: block;width: 100%;margin-bottom: 0;padding: 0.3em;box-sizing: border-box;text-align: center;}#sk-container-id-4 label.sk-toggleable__label-arrow:before {content: \"▸\";float: left;margin-right: 0.25em;color: #696969;}#sk-container-id-4 label.sk-toggleable__label-arrow:hover:before {color: black;}#sk-container-id-4 div.sk-estimator:hover label.sk-toggleable__label-arrow:before {color: black;}#sk-container-id-4 div.sk-toggleable__content {max-height: 0;max-width: 0;overflow: hidden;text-align: left;background-color: #f0f8ff;}#sk-container-id-4 div.sk-toggleable__content pre {margin: 0.2em;color: black;border-radius: 0.25em;background-color: #f0f8ff;}#sk-container-id-4 input.sk-toggleable__control:checked~div.sk-toggleable__content {max-height: 200px;max-width: 100%;overflow: auto;}#sk-container-id-4 input.sk-toggleable__control:checked~label.sk-toggleable__label-arrow:before {content: \"▾\";}#sk-container-id-4 div.sk-estimator input.sk-toggleable__control:checked~label.sk-toggleable__label {background-color: #d4ebff;}#sk-container-id-4 div.sk-label input.sk-toggleable__control:checked~label.sk-toggleable__label {background-color: #d4ebff;}#sk-container-id-4 input.sk-hidden--visually {border: 0;clip: rect(1px 1px 1px 1px);clip: rect(1px, 1px, 1px, 1px);height: 1px;margin: -1px;overflow: hidden;padding: 0;position: absolute;width: 1px;}#sk-container-id-4 div.sk-estimator {font-family: monospace;background-color: #f0f8ff;border: 1px dotted black;border-radius: 0.25em;box-sizing: border-box;margin-bottom: 0.5em;}#sk-container-id-4 div.sk-estimator:hover {background-color: #d4ebff;}#sk-container-id-4 div.sk-parallel-item::after {content: \"\";width: 100%;border-bottom: 1px solid gray;flex-grow: 1;}#sk-container-id-4 div.sk-label:hover label.sk-toggleable__label {background-color: #d4ebff;}#sk-container-id-4 div.sk-serial::before {content: \"\";position: absolute;border-left: 1px solid gray;box-sizing: border-box;top: 0;bottom: 0;left: 50%;z-index: 0;}#sk-container-id-4 div.sk-serial {display: flex;flex-direction: column;align-items: center;background-color: white;padding-right: 0.2em;padding-left: 0.2em;position: relative;}#sk-container-id-4 div.sk-item {position: relative;z-index: 1;}#sk-container-id-4 div.sk-parallel {display: flex;align-items: stretch;justify-content: center;background-color: white;position: relative;}#sk-container-id-4 div.sk-item::before, #sk-container-id-4 div.sk-parallel-item::before {content: \"\";position: absolute;border-left: 1px solid gray;box-sizing: border-box;top: 0;bottom: 0;left: 50%;z-index: -1;}#sk-container-id-4 div.sk-parallel-item {display: flex;flex-direction: column;z-index: 1;position: relative;background-color: white;}#sk-container-id-4 div.sk-parallel-item:first-child::after {align-self: flex-end;width: 50%;}#sk-container-id-4 div.sk-parallel-item:last-child::after {align-self: flex-start;width: 50%;}#sk-container-id-4 div.sk-parallel-item:only-child::after {width: 0;}#sk-container-id-4 div.sk-dashed-wrapped {border: 1px dashed gray;margin: 0 0.4em 0.5em 0.4em;box-sizing: border-box;padding-bottom: 0.4em;background-color: white;}#sk-container-id-4 div.sk-label label {font-family: monospace;font-weight: bold;display: inline-block;line-height: 1.2em;}#sk-container-id-4 div.sk-label-container {text-align: center;}#sk-container-id-4 div.sk-container {/* jupyter's `normalize.less` sets `[hidden] { display: none; }` but bootstrap.min.css set `[hidden] { display: none !important; }` so we also need the `!important` here to be able to override the default hidden behavior on the sphinx rendered scikit-learn.org. See: https://github.com/scikit-learn/scikit-learn/issues/21755 */display: inline-block !important;position: relative;}#sk-container-id-4 div.sk-text-repr-fallback {display: none;}</style><div id=\"sk-container-id-4\" class=\"sk-top-container\"><div class=\"sk-text-repr-fallback\"><pre>LinearRegression()</pre><b>In a Jupyter environment, please rerun this cell to show the HTML representation or trust the notebook. <br />On GitHub, the HTML representation is unable to render, please try loading this page with nbviewer.org.</b></div><div class=\"sk-container\" hidden><div class=\"sk-item\"><div class=\"sk-estimator sk-toggleable\"><input class=\"sk-toggleable__control sk-hidden--visually\" id=\"sk-estimator-id-4\" type=\"checkbox\" checked><label for=\"sk-estimator-id-4\" class=\"sk-toggleable__label sk-toggleable__label-arrow\">LinearRegression</label><div class=\"sk-toggleable__content\"><pre>LinearRegression()</pre></div></div></div></div></div>"
      ],
      "text/plain": [
       "LinearRegression()"
      ]
     },
     "execution_count": 15,
     "metadata": {},
     "output_type": "execute_result"
    }
   ],
   "source": [
    "# Calling of the linear regression function and fitting of the model\n",
    "regressor = LinearRegression()\n",
    "regressor.fit(X_train_sc, y_train)"
   ]
  },
  {
   "cell_type": "markdown",
   "id": "e35e6c89",
   "metadata": {},
   "source": [
    "After that, the prediction of the output and the evaluation of our model follows."
   ]
  },
  {
   "cell_type": "code",
   "execution_count": 16,
   "id": "fdf1bf71",
   "metadata": {},
   "outputs": [
    {
     "name": "stdout",
     "output_type": "stream",
     "text": [
      "[25.73146391  7.43951976 32.18196458 21.00014858 22.53215943 12.07313305\n",
      " 31.07802344 18.70570939 32.81541637 31.81168725 32.61043458 11.06012822\n",
      " 27.94874796 30.68561148 32.83789505 19.18726691 28.47080114 30.5001502\n",
      " 24.74054475 23.05386019 21.86033009 11.79604586 28.76799185 24.6604082\n",
      " 28.5413625  33.49322741 29.39043222 21.48874234 12.23709543 11.19383148\n",
      " 25.99637191 24.93856666 25.72009983  4.05423623 26.83585687 26.42815938\n",
      " 21.31950279 20.15764453 22.6006999  23.11876225 25.73954047 28.97233255\n",
      " 34.78222074 13.66498786 31.63817327 17.30324441 28.97269136 30.5674087\n",
      " 32.93444306 34.82234891 20.71642317 23.01054837 33.51411853 28.25370044\n",
      "  9.39730646 20.28635188 21.20303754 21.13816736 15.89709444 28.26170624\n",
      " 26.46383173 29.65188255 26.97693107 16.3918127  25.02700416 15.47368771\n",
      " 10.73896685 14.88627357 30.81196694 20.43942173 30.86883163 32.48057862\n",
      " 22.8073551  33.32083108  9.52960052 20.81043883  9.5364579  28.96464728\n",
      " 19.78387906 16.03247005 26.91240846  9.21439082 22.96103814  7.59321764\n",
      " 13.16597139  5.37163009 28.66066868 21.68908623 29.72521611 21.65108681\n",
      " 14.03730613 24.66559707 33.7519993  19.35241126 22.04600985 32.29009247\n",
      " 27.47354153 25.0342671 ]\n"
     ]
    }
   ],
   "source": [
    "y_prediction = regressor.predict(X_test_sc)\n",
    "\n",
    "# Display of the prediction values\n",
    "print(y_prediction)"
   ]
  },
  {
   "cell_type": "code",
   "execution_count": 17,
   "id": "516e749c",
   "metadata": {},
   "outputs": [
    {
     "name": "stdout",
     "output_type": "stream",
     "text": [
      "3.6013431683964\n"
     ]
    }
   ],
   "source": [
    "# Calculation of the root mean square error (RMSE)\n",
    "RMSE = sqrt(mean_squared_error(y_true = y_test, y_pred = y_prediction))\n",
    "\n",
    "# Display of the root mean square error(RMSE)\n",
    "print(RMSE)"
   ]
  },
  {
   "cell_type": "markdown",
   "id": "b54422e2",
   "metadata": {},
   "source": [
    "In the example of Multiple Linear Regression provided, an even smaller error is observed. This leads to the safe assumption that the model used performs well and better than the Single Linear Regression one. This in turn concludes that better predictions about a certain variable can derive from the addition of more than one related variables as inputs."
   ]
  }
 ],
 "metadata": {
  "kernelspec": {
   "display_name": "Python 3 (ipykernel)",
   "language": "python",
   "name": "python3"
  },
  "language_info": {
   "codemirror_mode": {
    "name": "ipython",
    "version": 3
   },
   "file_extension": ".py",
   "mimetype": "text/x-python",
   "name": "python",
   "nbconvert_exporter": "python",
   "pygments_lexer": "ipython3",
   "version": "3.10.9"
  }
 },
 "nbformat": 4,
 "nbformat_minor": 5
}
