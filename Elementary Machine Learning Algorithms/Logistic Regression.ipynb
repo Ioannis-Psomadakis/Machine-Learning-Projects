{
 "cells": [
  {
   "cell_type": "markdown",
   "id": "50673ad6",
   "metadata": {},
   "source": [
    "# Logistic Regression"
   ]
  },
  {
   "cell_type": "code",
   "execution_count": 2,
   "id": "fabf5ef9",
   "metadata": {},
   "outputs": [],
   "source": [
    "# Importing of the necessary libraries\n",
    "import numpy as np\n",
    "from sklearn.linear_model import LogisticRegression\n",
    "from sklearn.metrics import classification_report, confusion_matrix"
   ]
  },
  {
   "cell_type": "markdown",
   "id": "a92e6738",
   "metadata": {},
   "source": [
    "In practice, there are usually data to work with. In this instance arrays of values for input(𝑥) and for output(𝑦) will be created."
   ]
  },
  {
   "cell_type": "code",
   "execution_count": 3,
   "id": "8441d96e",
   "metadata": {},
   "outputs": [],
   "source": [
    "x = np.arange(10).reshape(-1, 1)\n",
    "y = np.array([0, 0, 0, 0, 1, 1, 1, 1, 1, 1])"
   ]
  },
  {
   "cell_type": "markdown",
   "id": "da737b5f",
   "metadata": {},
   "source": [
    "Both input and output must be NumPy arrays. The function numpy.arange() creates an array of consecutive, equal values within a given range. The x array must be two dimensional. It should have one column for each input and the number of rows should be equal to the number of observations. To make x a two-dimensional matrix, the function .reshape() with the arguments of -1 to get as many rows as needed and 1 to get the results in one column, is called."
   ]
  },
  {
   "cell_type": "code",
   "execution_count": 6,
   "id": "ab3ed96b",
   "metadata": {},
   "outputs": [
    {
     "name": "stdout",
     "output_type": "stream",
     "text": [
      "[[0]\n",
      " [1]\n",
      " [2]\n",
      " [3]\n",
      " [4]\n",
      " [5]\n",
      " [6]\n",
      " [7]\n",
      " [8]\n",
      " [9]]\n"
     ]
    }
   ],
   "source": [
    "# Displaying the x matrix\n",
    "print(x)"
   ]
  },
  {
   "cell_type": "raw",
   "id": "5dc7de47",
   "metadata": {},
   "source": [
    "Matrix x has two dimensions:\n",
    "• A column for an input\n",
    "• Ten rows, each corresponding to one observation"
   ]
  },
  {
   "cell_type": "code",
   "execution_count": 7,
   "id": "0bd0d336",
   "metadata": {},
   "outputs": [
    {
     "name": "stdout",
     "output_type": "stream",
     "text": [
      "[0 0 0 0 1 1 1 1 1 1]\n"
     ]
    }
   ],
   "source": [
    "# Displaying the y matrix\n",
    "print(y)"
   ]
  },
  {
   "cell_type": "markdown",
   "id": "475268c5",
   "metadata": {},
   "source": [
    "y is a vector of ten items. Again, each item corresponds to one observation. It contains only zeros (0) and ones (1) because this is a binary sorting problem."
   ]
  },
  {
   "cell_type": "markdown",
   "id": "04cabf10",
   "metadata": {},
   "source": [
    "Once both the input and output are defined, the creation and definition of the classification model can occur. In this example it is represented with an instance of the LogisticRegression class."
   ]
  },
  {
   "cell_type": "code",
   "execution_count": 8,
   "id": "ecaf4bae",
   "metadata": {},
   "outputs": [],
   "source": [
    "model = LogisticRegression(solver = 'liblinear', random_state = 0)"
   ]
  },
  {
   "cell_type": "markdown",
   "id": "96cd3384",
   "metadata": {},
   "source": [
    "Once the model has been created it must be fitted/trained. In the example the fit() function is used:"
   ]
  },
  {
   "cell_type": "code",
   "execution_count": 9,
   "id": "12d58204",
   "metadata": {},
   "outputs": [
    {
     "data": {
      "text/html": [
       "<style>#sk-container-id-1 {color: black;background-color: white;}#sk-container-id-1 pre{padding: 0;}#sk-container-id-1 div.sk-toggleable {background-color: white;}#sk-container-id-1 label.sk-toggleable__label {cursor: pointer;display: block;width: 100%;margin-bottom: 0;padding: 0.3em;box-sizing: border-box;text-align: center;}#sk-container-id-1 label.sk-toggleable__label-arrow:before {content: \"▸\";float: left;margin-right: 0.25em;color: #696969;}#sk-container-id-1 label.sk-toggleable__label-arrow:hover:before {color: black;}#sk-container-id-1 div.sk-estimator:hover label.sk-toggleable__label-arrow:before {color: black;}#sk-container-id-1 div.sk-toggleable__content {max-height: 0;max-width: 0;overflow: hidden;text-align: left;background-color: #f0f8ff;}#sk-container-id-1 div.sk-toggleable__content pre {margin: 0.2em;color: black;border-radius: 0.25em;background-color: #f0f8ff;}#sk-container-id-1 input.sk-toggleable__control:checked~div.sk-toggleable__content {max-height: 200px;max-width: 100%;overflow: auto;}#sk-container-id-1 input.sk-toggleable__control:checked~label.sk-toggleable__label-arrow:before {content: \"▾\";}#sk-container-id-1 div.sk-estimator input.sk-toggleable__control:checked~label.sk-toggleable__label {background-color: #d4ebff;}#sk-container-id-1 div.sk-label input.sk-toggleable__control:checked~label.sk-toggleable__label {background-color: #d4ebff;}#sk-container-id-1 input.sk-hidden--visually {border: 0;clip: rect(1px 1px 1px 1px);clip: rect(1px, 1px, 1px, 1px);height: 1px;margin: -1px;overflow: hidden;padding: 0;position: absolute;width: 1px;}#sk-container-id-1 div.sk-estimator {font-family: monospace;background-color: #f0f8ff;border: 1px dotted black;border-radius: 0.25em;box-sizing: border-box;margin-bottom: 0.5em;}#sk-container-id-1 div.sk-estimator:hover {background-color: #d4ebff;}#sk-container-id-1 div.sk-parallel-item::after {content: \"\";width: 100%;border-bottom: 1px solid gray;flex-grow: 1;}#sk-container-id-1 div.sk-label:hover label.sk-toggleable__label {background-color: #d4ebff;}#sk-container-id-1 div.sk-serial::before {content: \"\";position: absolute;border-left: 1px solid gray;box-sizing: border-box;top: 0;bottom: 0;left: 50%;z-index: 0;}#sk-container-id-1 div.sk-serial {display: flex;flex-direction: column;align-items: center;background-color: white;padding-right: 0.2em;padding-left: 0.2em;position: relative;}#sk-container-id-1 div.sk-item {position: relative;z-index: 1;}#sk-container-id-1 div.sk-parallel {display: flex;align-items: stretch;justify-content: center;background-color: white;position: relative;}#sk-container-id-1 div.sk-item::before, #sk-container-id-1 div.sk-parallel-item::before {content: \"\";position: absolute;border-left: 1px solid gray;box-sizing: border-box;top: 0;bottom: 0;left: 50%;z-index: -1;}#sk-container-id-1 div.sk-parallel-item {display: flex;flex-direction: column;z-index: 1;position: relative;background-color: white;}#sk-container-id-1 div.sk-parallel-item:first-child::after {align-self: flex-end;width: 50%;}#sk-container-id-1 div.sk-parallel-item:last-child::after {align-self: flex-start;width: 50%;}#sk-container-id-1 div.sk-parallel-item:only-child::after {width: 0;}#sk-container-id-1 div.sk-dashed-wrapped {border: 1px dashed gray;margin: 0 0.4em 0.5em 0.4em;box-sizing: border-box;padding-bottom: 0.4em;background-color: white;}#sk-container-id-1 div.sk-label label {font-family: monospace;font-weight: bold;display: inline-block;line-height: 1.2em;}#sk-container-id-1 div.sk-label-container {text-align: center;}#sk-container-id-1 div.sk-container {/* jupyter's `normalize.less` sets `[hidden] { display: none; }` but bootstrap.min.css set `[hidden] { display: none !important; }` so we also need the `!important` here to be able to override the default hidden behavior on the sphinx rendered scikit-learn.org. See: https://github.com/scikit-learn/scikit-learn/issues/21755 */display: inline-block !important;position: relative;}#sk-container-id-1 div.sk-text-repr-fallback {display: none;}</style><div id=\"sk-container-id-1\" class=\"sk-top-container\"><div class=\"sk-text-repr-fallback\"><pre>LogisticRegression(random_state=0, solver=&#x27;liblinear&#x27;)</pre><b>In a Jupyter environment, please rerun this cell to show the HTML representation or trust the notebook. <br />On GitHub, the HTML representation is unable to render, please try loading this page with nbviewer.org.</b></div><div class=\"sk-container\" hidden><div class=\"sk-item\"><div class=\"sk-estimator sk-toggleable\"><input class=\"sk-toggleable__control sk-hidden--visually\" id=\"sk-estimator-id-1\" type=\"checkbox\" checked><label for=\"sk-estimator-id-1\" class=\"sk-toggleable__label sk-toggleable__label-arrow\">LogisticRegression</label><div class=\"sk-toggleable__content\"><pre>LogisticRegression(random_state=0, solver=&#x27;liblinear&#x27;)</pre></div></div></div></div></div>"
      ],
      "text/plain": [
       "LogisticRegression(random_state=0, solver='liblinear')"
      ]
     },
     "execution_count": 9,
     "metadata": {},
     "output_type": "execute_result"
    }
   ],
   "source": [
    "model.fit(x, y)"
   ]
  },
  {
   "cell_type": "markdown",
   "id": "37c1c132",
   "metadata": {},
   "source": [
    "The fit() function takes the x, y and possible weights associated with the observation and i then adjusts the model and returns the model instance."
   ]
  },
  {
   "cell_type": "markdown",
   "id": "ad18dec1",
   "metadata": {},
   "source": [
    "Once the model is defined,its performance can be tested using the .predict_proba() function. This returns the matrix of probabilities of t predicted output being equal to one or zero."
   ]
  },
  {
   "cell_type": "code",
   "execution_count": 10,
   "id": "37b1cc60",
   "metadata": {},
   "outputs": [
    {
     "data": {
      "text/plain": [
       "array([[0.74002157, 0.25997843],\n",
       "       [0.62975524, 0.37024476],\n",
       "       [0.5040632 , 0.4959368 ],\n",
       "       [0.37785549, 0.62214451],\n",
       "       [0.26628093, 0.73371907],\n",
       "       [0.17821501, 0.82178499],\n",
       "       [0.11472079, 0.88527921],\n",
       "       [0.07186982, 0.92813018],\n",
       "       [0.04422513, 0.95577487],\n",
       "       [0.02690569, 0.97309431]])"
      ]
     },
     "execution_count": 10,
     "metadata": {},
     "output_type": "execute_result"
    }
   ],
   "source": [
    "model.predict_proba(x)"
   ]
  },
  {
   "cell_type": "markdown",
   "id": "094c2cad",
   "metadata": {},
   "source": [
    "In the table above, each row corresponds to a single observation. The left column displays the probability of the predicted output being zero, i.e. 1 - 𝑝(𝑥). The right column displays the probability of the output being one or 𝑝(𝑥)."
   ]
  },
  {
   "cell_type": "markdown",
   "id": "0fcb79ba",
   "metadata": {},
   "source": [
    "The predictions based on the probability matrix and the values of 𝑝(𝑥), can be acquired with the .predict() function:"
   ]
  },
  {
   "cell_type": "code",
   "execution_count": 11,
   "id": "4102adeb",
   "metadata": {},
   "outputs": [
    {
     "data": {
      "text/plain": [
       "array([0, 0, 0, 1, 1, 1, 1, 1, 1, 1])"
      ]
     },
     "execution_count": 11,
     "metadata": {},
     "output_type": "execute_result"
    }
   ],
   "source": [
    "model.predict(x)"
   ]
  },
  {
   "cell_type": "markdown",
   "id": "9ff5d9ed",
   "metadata": {},
   "source": [
    "This function returns the predicted output values as a one-dimensional array."
   ]
  },
  {
   "cell_type": "markdown",
   "id": "42849939",
   "metadata": {},
   "source": [
    "When nine out of ten observations have been correctly classified, the accuracy of the model equals 9/10 = 0.9, which can be acquired with the .score() function:"
   ]
  },
  {
   "cell_type": "code",
   "execution_count": 12,
   "id": "919323a1",
   "metadata": {},
   "outputs": [
    {
     "data": {
      "text/plain": [
       "0.9"
      ]
     },
     "execution_count": 12,
     "metadata": {},
     "output_type": "execute_result"
    }
   ],
   "source": [
    "model.score(x, y)"
   ]
  },
  {
   "cell_type": "markdown",
   "id": "949cd2d5",
   "metadata": {},
   "source": [
    "The .score() function takes both the input and output as arguments and returns the ratio of the number of correct predictions to the number of observations."
   ]
  },
  {
   "cell_type": "markdown",
   "id": "21f8f118",
   "metadata": {},
   "source": [
    "More information about the accuracy of the model can be made known through the confusion matrix. To create the confusion matrix, the confusion_matrix() function can be used while passing the actual and predicted outputs as arguments:"
   ]
  },
  {
   "cell_type": "code",
   "execution_count": 13,
   "id": "4b9bdb83",
   "metadata": {},
   "outputs": [
    {
     "data": {
      "text/plain": [
       "array([[3, 1],\n",
       "       [0, 6]], dtype=int64)"
      ]
     },
     "execution_count": 13,
     "metadata": {},
     "output_type": "execute_result"
    }
   ],
   "source": [
    "confusion_matrix(y, model.predict(x))"
   ]
  },
  {
   "cell_type": "raw",
   "id": "f2d2d1f2",
   "metadata": {},
   "source": [
    "The table outpout displays the following:\n",
    "• Three true negative predictions: The first three observations are zero and have been correctly predicted.\n",
    "• No false negative predictions: These are those observations that have been incorrectly predicted as zero.\n",
    "• A false positive prediction: The fourth observation is a zero that was incorrectly predicted as a one.\n",
    "• Six true positive predictions: The last six observations have been correctly predicted as ones."
   ]
  },
  {
   "cell_type": "markdown",
   "id": "e5fc90e5",
   "metadata": {},
   "source": [
    "#### Optimizing the model"
   ]
  },
  {
   "cell_type": "markdown",
   "id": "42be0940",
   "metadata": {},
   "source": [
    "Improvement of the existing model can be achieved by adjusting the different parameters. For example, the value of the parameter regularization strength 'C' can be set equal to 10.0, instead of the default value of 1.0."
   ]
  },
  {
   "cell_type": "code",
   "execution_count": 14,
   "id": "842053d8",
   "metadata": {},
   "outputs": [],
   "source": [
    "model = LogisticRegression(solver = 'liblinear', C=10.0, random_state = 0).fit(x, y)"
   ]
  },
  {
   "cell_type": "markdown",
   "id": "219292af",
   "metadata": {},
   "source": [
    "This action has resulted an other model with different parameters."
   ]
  },
  {
   "cell_type": "code",
   "execution_count": 15,
   "id": "2376b9de",
   "metadata": {},
   "outputs": [
    {
     "data": {
      "text/plain": [
       "1.0"
      ]
     },
     "execution_count": 15,
     "metadata": {},
     "output_type": "execute_result"
    }
   ],
   "source": [
    "# Display of the accuracy\n",
    "model.score(x, y)"
   ]
  },
  {
   "cell_type": "code",
   "execution_count": 16,
   "id": "6ce68f5a",
   "metadata": {},
   "outputs": [
    {
     "data": {
      "text/plain": [
       "array([[4, 0],\n",
       "       [0, 6]], dtype=int64)"
      ]
     },
     "execution_count": 16,
     "metadata": {},
     "output_type": "execute_result"
    }
   ],
   "source": [
    "# Display of the confusion matrix\n",
    "confusion_matrix(y, model.predict(x))"
   ]
  },
  {
   "cell_type": "markdown",
   "id": "a2daf45a",
   "metadata": {},
   "source": [
    "So, the model has been optimized and the maximum accuracy has been achieved. The same can be seen in the confusion table as well, which now shows that all values have been predicted correctly."
   ]
  }
 ],
 "metadata": {
  "kernelspec": {
   "display_name": "Python 3 (ipykernel)",
   "language": "python",
   "name": "python3"
  },
  "language_info": {
   "codemirror_mode": {
    "name": "ipython",
    "version": 3
   },
   "file_extension": ".py",
   "mimetype": "text/x-python",
   "name": "python",
   "nbconvert_exporter": "python",
   "pygments_lexer": "ipython3",
   "version": "3.10.9"
  }
 },
 "nbformat": 4,
 "nbformat_minor": 5
}
